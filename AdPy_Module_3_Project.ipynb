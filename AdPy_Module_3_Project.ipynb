{
  "nbformat": 4,
  "nbformat_minor": 0,
  "metadata": {
    "colab": {
      "provenance": [],
      "authorship_tag": "ABX9TyPRoN9UIxKK9PJiQNyA2zKL",
      "include_colab_link": true
    },
    "kernelspec": {
      "name": "python3",
      "display_name": "Python 3"
    },
    "language_info": {
      "name": "python"
    }
  },
  "cells": [
    {
      "cell_type": "markdown",
      "metadata": {
        "id": "view-in-github",
        "colab_type": "text"
      },
      "source": [
        "<a href=\"https://colab.research.google.com/github/kutenik7/Adv_Python/blob/main/AdPy_Module_3_Project.ipynb\" target=\"_parent\"><img src=\"https://colab.research.google.com/assets/colab-badge.svg\" alt=\"Open In Colab\"/></a>"
      ]
    },
    {
      "cell_type": "code",
      "execution_count": 1,
      "metadata": {
        "id": "ysCF0dEyAenC"
      },
      "outputs": [],
      "source": [
        "import pandas as pd\n",
        "import requests\n",
        "from bs4 import BeautifulSoup"
      ]
    },
    {
      "cell_type": "code",
      "source": [
        "response = requests.get('https://btech-data-analytics.github.io/bridgerland-technical-college/bookstore.html').text"
      ],
      "metadata": {
        "id": "jhBaLks-BZNQ"
      },
      "execution_count": 20,
      "outputs": []
    },
    {
      "cell_type": "code",
      "source": [
        "soup = BeautifulSoup(response, 'html.parser')"
      ],
      "metadata": {
        "id": "LrdILSr9ByiR"
      },
      "execution_count": 21,
      "outputs": []
    },
    {
      "cell_type": "code",
      "source": [
        "ISBN = []\n",
        "title = []\n",
        "author = []\n",
        "language = []\n",
        "pages = []\n",
        "topic = []\n",
        "price = []\n",
        "\n",
        "for book in soup.find('table').find_all('tr', class_='book'):\n",
        "  ISBN.append(book.find_all('td')[0].text)\n",
        "  title.append(book.find_all('td')[1].text)\n",
        "  author.append(book.find_all('td')[2].text)\n",
        "  language.append(book.find_all('td')[3].text)\n",
        "  pages.append(book.find_all('td')[4].text)\n",
        "  topic.append(book.find_all('td')[5].text)\n",
        "  price.append(book.find_all('td')[6].text)\n",
        "\n",
        "df = pd.DataFrame({\n",
        "    'ISBN':ISBN,\n",
        "    'title':title,\n",
        "    'author':author,\n",
        "    'language':language,\n",
        "    'pages':pages,\n",
        "    'topic':topic,\n",
        "    'price':price\n",
        "})\n",
        "df.info()"
      ],
      "metadata": {
        "colab": {
          "base_uri": "https://localhost:8080/"
        },
        "id": "HmONES1Jj0Qz",
        "outputId": "145b638c-f3b6-45e3-c221-7c88a2dfe006"
      },
      "execution_count": 22,
      "outputs": [
        {
          "output_type": "stream",
          "name": "stdout",
          "text": [
            "<class 'pandas.core.frame.DataFrame'>\n",
            "RangeIndex: 15 entries, 0 to 14\n",
            "Data columns (total 7 columns):\n",
            " #   Column    Non-Null Count  Dtype \n",
            "---  ------    --------------  ----- \n",
            " 0   ISBN      15 non-null     object\n",
            " 1   title     15 non-null     object\n",
            " 2   author    15 non-null     object\n",
            " 3   language  15 non-null     object\n",
            " 4   pages     15 non-null     object\n",
            " 5   topic     15 non-null     object\n",
            " 6   price     15 non-null     object\n",
            "dtypes: object(7)\n",
            "memory usage: 972.0+ bytes\n"
          ]
        }
      ]
    },
    {
      "cell_type": "code",
      "source": [
        "df.groupby('author').count()"
      ],
      "metadata": {
        "colab": {
          "base_uri": "https://localhost:8080/",
          "height": 394
        },
        "id": "N5mAwvnlHdLD",
        "outputId": "5436ec3e-2c14-4522-9e78-085d9f4d857f"
      },
      "execution_count": 24,
      "outputs": [
        {
          "output_type": "execute_result",
          "data": {
            "text/plain": [
              "                     ISBN  title  language  pages  topic  price\n",
              "author                                                         \n",
              "Benjamin Barkley        2      2         2      2      2      2\n",
              "Celeste Nightshade      1      1         1      1      1      1\n",
              "Isadora Harrington      1      1         1      1      1      1\n",
              "Jasper Sterling         2      2         2      2      2      2\n",
              "Maximilian Thorne       1      1         1      1      1      1\n",
              "Oliver Obedience        1      1         1      1      1      1\n",
              "Penelope Wainwright     4      4         4      4      4      4\n",
              "Ruby Ruffington         1      1         1      1      1      1\n",
              "Seraphina Montague      1      1         1      1      1      1\n",
              "Sophie Shepherd         1      1         1      1      1      1"
            ],
            "text/html": [
              "\n",
              "  <div id=\"df-aaeff78a-a14b-4402-ae95-351f1e7dee9a\" class=\"colab-df-container\">\n",
              "    <div>\n",
              "<style scoped>\n",
              "    .dataframe tbody tr th:only-of-type {\n",
              "        vertical-align: middle;\n",
              "    }\n",
              "\n",
              "    .dataframe tbody tr th {\n",
              "        vertical-align: top;\n",
              "    }\n",
              "\n",
              "    .dataframe thead th {\n",
              "        text-align: right;\n",
              "    }\n",
              "</style>\n",
              "<table border=\"1\" class=\"dataframe\">\n",
              "  <thead>\n",
              "    <tr style=\"text-align: right;\">\n",
              "      <th></th>\n",
              "      <th>ISBN</th>\n",
              "      <th>title</th>\n",
              "      <th>language</th>\n",
              "      <th>pages</th>\n",
              "      <th>topic</th>\n",
              "      <th>price</th>\n",
              "    </tr>\n",
              "    <tr>\n",
              "      <th>author</th>\n",
              "      <th></th>\n",
              "      <th></th>\n",
              "      <th></th>\n",
              "      <th></th>\n",
              "      <th></th>\n",
              "      <th></th>\n",
              "    </tr>\n",
              "  </thead>\n",
              "  <tbody>\n",
              "    <tr>\n",
              "      <th>Benjamin Barkley</th>\n",
              "      <td>2</td>\n",
              "      <td>2</td>\n",
              "      <td>2</td>\n",
              "      <td>2</td>\n",
              "      <td>2</td>\n",
              "      <td>2</td>\n",
              "    </tr>\n",
              "    <tr>\n",
              "      <th>Celeste Nightshade</th>\n",
              "      <td>1</td>\n",
              "      <td>1</td>\n",
              "      <td>1</td>\n",
              "      <td>1</td>\n",
              "      <td>1</td>\n",
              "      <td>1</td>\n",
              "    </tr>\n",
              "    <tr>\n",
              "      <th>Isadora Harrington</th>\n",
              "      <td>1</td>\n",
              "      <td>1</td>\n",
              "      <td>1</td>\n",
              "      <td>1</td>\n",
              "      <td>1</td>\n",
              "      <td>1</td>\n",
              "    </tr>\n",
              "    <tr>\n",
              "      <th>Jasper Sterling</th>\n",
              "      <td>2</td>\n",
              "      <td>2</td>\n",
              "      <td>2</td>\n",
              "      <td>2</td>\n",
              "      <td>2</td>\n",
              "      <td>2</td>\n",
              "    </tr>\n",
              "    <tr>\n",
              "      <th>Maximilian Thorne</th>\n",
              "      <td>1</td>\n",
              "      <td>1</td>\n",
              "      <td>1</td>\n",
              "      <td>1</td>\n",
              "      <td>1</td>\n",
              "      <td>1</td>\n",
              "    </tr>\n",
              "    <tr>\n",
              "      <th>Oliver Obedience</th>\n",
              "      <td>1</td>\n",
              "      <td>1</td>\n",
              "      <td>1</td>\n",
              "      <td>1</td>\n",
              "      <td>1</td>\n",
              "      <td>1</td>\n",
              "    </tr>\n",
              "    <tr>\n",
              "      <th>Penelope Wainwright</th>\n",
              "      <td>4</td>\n",
              "      <td>4</td>\n",
              "      <td>4</td>\n",
              "      <td>4</td>\n",
              "      <td>4</td>\n",
              "      <td>4</td>\n",
              "    </tr>\n",
              "    <tr>\n",
              "      <th>Ruby Ruffington</th>\n",
              "      <td>1</td>\n",
              "      <td>1</td>\n",
              "      <td>1</td>\n",
              "      <td>1</td>\n",
              "      <td>1</td>\n",
              "      <td>1</td>\n",
              "    </tr>\n",
              "    <tr>\n",
              "      <th>Seraphina Montague</th>\n",
              "      <td>1</td>\n",
              "      <td>1</td>\n",
              "      <td>1</td>\n",
              "      <td>1</td>\n",
              "      <td>1</td>\n",
              "      <td>1</td>\n",
              "    </tr>\n",
              "    <tr>\n",
              "      <th>Sophie Shepherd</th>\n",
              "      <td>1</td>\n",
              "      <td>1</td>\n",
              "      <td>1</td>\n",
              "      <td>1</td>\n",
              "      <td>1</td>\n",
              "      <td>1</td>\n",
              "    </tr>\n",
              "  </tbody>\n",
              "</table>\n",
              "</div>\n",
              "    <div class=\"colab-df-buttons\">\n",
              "\n",
              "  <div class=\"colab-df-container\">\n",
              "    <button class=\"colab-df-convert\" onclick=\"convertToInteractive('df-aaeff78a-a14b-4402-ae95-351f1e7dee9a')\"\n",
              "            title=\"Convert this dataframe to an interactive table.\"\n",
              "            style=\"display:none;\">\n",
              "\n",
              "  <svg xmlns=\"http://www.w3.org/2000/svg\" height=\"24px\" viewBox=\"0 -960 960 960\">\n",
              "    <path d=\"M120-120v-720h720v720H120Zm60-500h600v-160H180v160Zm220 220h160v-160H400v160Zm0 220h160v-160H400v160ZM180-400h160v-160H180v160Zm440 0h160v-160H620v160ZM180-180h160v-160H180v160Zm440 0h160v-160H620v160Z\"/>\n",
              "  </svg>\n",
              "    </button>\n",
              "\n",
              "  <style>\n",
              "    .colab-df-container {\n",
              "      display:flex;\n",
              "      gap: 12px;\n",
              "    }\n",
              "\n",
              "    .colab-df-convert {\n",
              "      background-color: #E8F0FE;\n",
              "      border: none;\n",
              "      border-radius: 50%;\n",
              "      cursor: pointer;\n",
              "      display: none;\n",
              "      fill: #1967D2;\n",
              "      height: 32px;\n",
              "      padding: 0 0 0 0;\n",
              "      width: 32px;\n",
              "    }\n",
              "\n",
              "    .colab-df-convert:hover {\n",
              "      background-color: #E2EBFA;\n",
              "      box-shadow: 0px 1px 2px rgba(60, 64, 67, 0.3), 0px 1px 3px 1px rgba(60, 64, 67, 0.15);\n",
              "      fill: #174EA6;\n",
              "    }\n",
              "\n",
              "    .colab-df-buttons div {\n",
              "      margin-bottom: 4px;\n",
              "    }\n",
              "\n",
              "    [theme=dark] .colab-df-convert {\n",
              "      background-color: #3B4455;\n",
              "      fill: #D2E3FC;\n",
              "    }\n",
              "\n",
              "    [theme=dark] .colab-df-convert:hover {\n",
              "      background-color: #434B5C;\n",
              "      box-shadow: 0px 1px 3px 1px rgba(0, 0, 0, 0.15);\n",
              "      filter: drop-shadow(0px 1px 2px rgba(0, 0, 0, 0.3));\n",
              "      fill: #FFFFFF;\n",
              "    }\n",
              "  </style>\n",
              "\n",
              "    <script>\n",
              "      const buttonEl =\n",
              "        document.querySelector('#df-aaeff78a-a14b-4402-ae95-351f1e7dee9a button.colab-df-convert');\n",
              "      buttonEl.style.display =\n",
              "        google.colab.kernel.accessAllowed ? 'block' : 'none';\n",
              "\n",
              "      async function convertToInteractive(key) {\n",
              "        const element = document.querySelector('#df-aaeff78a-a14b-4402-ae95-351f1e7dee9a');\n",
              "        const dataTable =\n",
              "          await google.colab.kernel.invokeFunction('convertToInteractive',\n",
              "                                                    [key], {});\n",
              "        if (!dataTable) return;\n",
              "\n",
              "        const docLinkHtml = 'Like what you see? Visit the ' +\n",
              "          '<a target=\"_blank\" href=https://colab.research.google.com/notebooks/data_table.ipynb>data table notebook</a>'\n",
              "          + ' to learn more about interactive tables.';\n",
              "        element.innerHTML = '';\n",
              "        dataTable['output_type'] = 'display_data';\n",
              "        await google.colab.output.renderOutput(dataTable, element);\n",
              "        const docLink = document.createElement('div');\n",
              "        docLink.innerHTML = docLinkHtml;\n",
              "        element.appendChild(docLink);\n",
              "      }\n",
              "    </script>\n",
              "  </div>\n",
              "\n",
              "\n",
              "    <div id=\"df-047b328f-3d2e-46e8-8d9f-db3fefecda50\">\n",
              "      <button class=\"colab-df-quickchart\" onclick=\"quickchart('df-047b328f-3d2e-46e8-8d9f-db3fefecda50')\"\n",
              "                title=\"Suggest charts\"\n",
              "                style=\"display:none;\">\n",
              "\n",
              "<svg xmlns=\"http://www.w3.org/2000/svg\" height=\"24px\"viewBox=\"0 0 24 24\"\n",
              "     width=\"24px\">\n",
              "    <g>\n",
              "        <path d=\"M19 3H5c-1.1 0-2 .9-2 2v14c0 1.1.9 2 2 2h14c1.1 0 2-.9 2-2V5c0-1.1-.9-2-2-2zM9 17H7v-7h2v7zm4 0h-2V7h2v10zm4 0h-2v-4h2v4z\"/>\n",
              "    </g>\n",
              "</svg>\n",
              "      </button>\n",
              "\n",
              "<style>\n",
              "  .colab-df-quickchart {\n",
              "      --bg-color: #E8F0FE;\n",
              "      --fill-color: #1967D2;\n",
              "      --hover-bg-color: #E2EBFA;\n",
              "      --hover-fill-color: #174EA6;\n",
              "      --disabled-fill-color: #AAA;\n",
              "      --disabled-bg-color: #DDD;\n",
              "  }\n",
              "\n",
              "  [theme=dark] .colab-df-quickchart {\n",
              "      --bg-color: #3B4455;\n",
              "      --fill-color: #D2E3FC;\n",
              "      --hover-bg-color: #434B5C;\n",
              "      --hover-fill-color: #FFFFFF;\n",
              "      --disabled-bg-color: #3B4455;\n",
              "      --disabled-fill-color: #666;\n",
              "  }\n",
              "\n",
              "  .colab-df-quickchart {\n",
              "    background-color: var(--bg-color);\n",
              "    border: none;\n",
              "    border-radius: 50%;\n",
              "    cursor: pointer;\n",
              "    display: none;\n",
              "    fill: var(--fill-color);\n",
              "    height: 32px;\n",
              "    padding: 0;\n",
              "    width: 32px;\n",
              "  }\n",
              "\n",
              "  .colab-df-quickchart:hover {\n",
              "    background-color: var(--hover-bg-color);\n",
              "    box-shadow: 0 1px 2px rgba(60, 64, 67, 0.3), 0 1px 3px 1px rgba(60, 64, 67, 0.15);\n",
              "    fill: var(--button-hover-fill-color);\n",
              "  }\n",
              "\n",
              "  .colab-df-quickchart-complete:disabled,\n",
              "  .colab-df-quickchart-complete:disabled:hover {\n",
              "    background-color: var(--disabled-bg-color);\n",
              "    fill: var(--disabled-fill-color);\n",
              "    box-shadow: none;\n",
              "  }\n",
              "\n",
              "  .colab-df-spinner {\n",
              "    border: 2px solid var(--fill-color);\n",
              "    border-color: transparent;\n",
              "    border-bottom-color: var(--fill-color);\n",
              "    animation:\n",
              "      spin 1s steps(1) infinite;\n",
              "  }\n",
              "\n",
              "  @keyframes spin {\n",
              "    0% {\n",
              "      border-color: transparent;\n",
              "      border-bottom-color: var(--fill-color);\n",
              "      border-left-color: var(--fill-color);\n",
              "    }\n",
              "    20% {\n",
              "      border-color: transparent;\n",
              "      border-left-color: var(--fill-color);\n",
              "      border-top-color: var(--fill-color);\n",
              "    }\n",
              "    30% {\n",
              "      border-color: transparent;\n",
              "      border-left-color: var(--fill-color);\n",
              "      border-top-color: var(--fill-color);\n",
              "      border-right-color: var(--fill-color);\n",
              "    }\n",
              "    40% {\n",
              "      border-color: transparent;\n",
              "      border-right-color: var(--fill-color);\n",
              "      border-top-color: var(--fill-color);\n",
              "    }\n",
              "    60% {\n",
              "      border-color: transparent;\n",
              "      border-right-color: var(--fill-color);\n",
              "    }\n",
              "    80% {\n",
              "      border-color: transparent;\n",
              "      border-right-color: var(--fill-color);\n",
              "      border-bottom-color: var(--fill-color);\n",
              "    }\n",
              "    90% {\n",
              "      border-color: transparent;\n",
              "      border-bottom-color: var(--fill-color);\n",
              "    }\n",
              "  }\n",
              "</style>\n",
              "\n",
              "      <script>\n",
              "        async function quickchart(key) {\n",
              "          const quickchartButtonEl =\n",
              "            document.querySelector('#' + key + ' button');\n",
              "          quickchartButtonEl.disabled = true;  // To prevent multiple clicks.\n",
              "          quickchartButtonEl.classList.add('colab-df-spinner');\n",
              "          try {\n",
              "            const charts = await google.colab.kernel.invokeFunction(\n",
              "                'suggestCharts', [key], {});\n",
              "          } catch (error) {\n",
              "            console.error('Error during call to suggestCharts:', error);\n",
              "          }\n",
              "          quickchartButtonEl.classList.remove('colab-df-spinner');\n",
              "          quickchartButtonEl.classList.add('colab-df-quickchart-complete');\n",
              "        }\n",
              "        (() => {\n",
              "          let quickchartButtonEl =\n",
              "            document.querySelector('#df-047b328f-3d2e-46e8-8d9f-db3fefecda50 button');\n",
              "          quickchartButtonEl.style.display =\n",
              "            google.colab.kernel.accessAllowed ? 'block' : 'none';\n",
              "        })();\n",
              "      </script>\n",
              "    </div>\n",
              "\n",
              "    </div>\n",
              "  </div>\n"
            ],
            "application/vnd.google.colaboratory.intrinsic+json": {
              "type": "dataframe",
              "summary": "{\n  \"name\": \"df\",\n  \"rows\": 10,\n  \"fields\": [\n    {\n      \"column\": \"author\",\n      \"properties\": {\n        \"dtype\": \"string\",\n        \"num_unique_values\": 10,\n        \"samples\": [\n          \"Seraphina Montague\",\n          \"Celeste Nightshade\",\n          \"Oliver Obedience\"\n        ],\n        \"semantic_type\": \"\",\n        \"description\": \"\"\n      }\n    },\n    {\n      \"column\": \"ISBN\",\n      \"properties\": {\n        \"dtype\": \"number\",\n        \"std\": 0,\n        \"min\": 1,\n        \"max\": 4,\n        \"num_unique_values\": 3,\n        \"samples\": [\n          2,\n          1,\n          4\n        ],\n        \"semantic_type\": \"\",\n        \"description\": \"\"\n      }\n    },\n    {\n      \"column\": \"title\",\n      \"properties\": {\n        \"dtype\": \"number\",\n        \"std\": 0,\n        \"min\": 1,\n        \"max\": 4,\n        \"num_unique_values\": 3,\n        \"samples\": [\n          2,\n          1,\n          4\n        ],\n        \"semantic_type\": \"\",\n        \"description\": \"\"\n      }\n    },\n    {\n      \"column\": \"language\",\n      \"properties\": {\n        \"dtype\": \"number\",\n        \"std\": 0,\n        \"min\": 1,\n        \"max\": 4,\n        \"num_unique_values\": 3,\n        \"samples\": [\n          2,\n          1,\n          4\n        ],\n        \"semantic_type\": \"\",\n        \"description\": \"\"\n      }\n    },\n    {\n      \"column\": \"pages\",\n      \"properties\": {\n        \"dtype\": \"number\",\n        \"std\": 0,\n        \"min\": 1,\n        \"max\": 4,\n        \"num_unique_values\": 3,\n        \"samples\": [\n          2,\n          1,\n          4\n        ],\n        \"semantic_type\": \"\",\n        \"description\": \"\"\n      }\n    },\n    {\n      \"column\": \"topic\",\n      \"properties\": {\n        \"dtype\": \"number\",\n        \"std\": 0,\n        \"min\": 1,\n        \"max\": 4,\n        \"num_unique_values\": 3,\n        \"samples\": [\n          2,\n          1,\n          4\n        ],\n        \"semantic_type\": \"\",\n        \"description\": \"\"\n      }\n    },\n    {\n      \"column\": \"price\",\n      \"properties\": {\n        \"dtype\": \"number\",\n        \"std\": 0,\n        \"min\": 1,\n        \"max\": 4,\n        \"num_unique_values\": 3,\n        \"samples\": [\n          2,\n          1,\n          4\n        ],\n        \"semantic_type\": \"\",\n        \"description\": \"\"\n      }\n    }\n  ]\n}"
            }
          },
          "metadata": {},
          "execution_count": 24
        }
      ]
    },
    {
      "cell_type": "code",
      "source": [
        "df['topic'].value_counts()"
      ],
      "metadata": {
        "colab": {
          "base_uri": "https://localhost:8080/",
          "height": 178
        },
        "id": "x2TADQ-yj0Bz",
        "outputId": "59fc7e56-1de4-40ca-88a3-c540d367bab6"
      },
      "execution_count": 26,
      "outputs": [
        {
          "output_type": "execute_result",
          "data": {
            "text/plain": [
              "topic\n",
              "Cats    10\n",
              "Dogs     5\n",
              "Name: count, dtype: int64"
            ],
            "text/html": [
              "<div>\n",
              "<style scoped>\n",
              "    .dataframe tbody tr th:only-of-type {\n",
              "        vertical-align: middle;\n",
              "    }\n",
              "\n",
              "    .dataframe tbody tr th {\n",
              "        vertical-align: top;\n",
              "    }\n",
              "\n",
              "    .dataframe thead th {\n",
              "        text-align: right;\n",
              "    }\n",
              "</style>\n",
              "<table border=\"1\" class=\"dataframe\">\n",
              "  <thead>\n",
              "    <tr style=\"text-align: right;\">\n",
              "      <th></th>\n",
              "      <th>count</th>\n",
              "    </tr>\n",
              "    <tr>\n",
              "      <th>topic</th>\n",
              "      <th></th>\n",
              "    </tr>\n",
              "  </thead>\n",
              "  <tbody>\n",
              "    <tr>\n",
              "      <th>Cats</th>\n",
              "      <td>10</td>\n",
              "    </tr>\n",
              "    <tr>\n",
              "      <th>Dogs</th>\n",
              "      <td>5</td>\n",
              "    </tr>\n",
              "  </tbody>\n",
              "</table>\n",
              "</div><br><label><b>dtype:</b> int64</label>"
            ]
          },
          "metadata": {},
          "execution_count": 26
        }
      ]
    },
    {
      "cell_type": "code",
      "metadata": {
        "colab": {
          "base_uri": "https://localhost:8080/",
          "height": 277
        },
        "id": "a416e662",
        "outputId": "6ef68e47-93d6-44e1-f35c-e8feb7fed121"
      },
      "source": [
        "df['price'] = df['price'].astype(str).str.replace('$', '', regex=False)\n",
        "df['price'] = pd.to_numeric(df['price'])\n",
        "display(df.info())"
      ],
      "execution_count": 34,
      "outputs": [
        {
          "output_type": "stream",
          "name": "stdout",
          "text": [
            "<class 'pandas.core.frame.DataFrame'>\n",
            "RangeIndex: 15 entries, 0 to 14\n",
            "Data columns (total 7 columns):\n",
            " #   Column    Non-Null Count  Dtype  \n",
            "---  ------    --------------  -----  \n",
            " 0   ISBN      15 non-null     object \n",
            " 1   title     15 non-null     object \n",
            " 2   author    15 non-null     object \n",
            " 3   language  15 non-null     object \n",
            " 4   pages     15 non-null     object \n",
            " 5   topic     15 non-null     object \n",
            " 6   price     15 non-null     float64\n",
            "dtypes: float64(1), object(6)\n",
            "memory usage: 972.0+ bytes\n"
          ]
        },
        {
          "output_type": "display_data",
          "data": {
            "text/plain": [
              "None"
            ]
          },
          "metadata": {}
        }
      ]
    },
    {
      "cell_type": "code",
      "source": [
        "df.groupby('topic')['price'].mean()"
      ],
      "metadata": {
        "colab": {
          "base_uri": "https://localhost:8080/",
          "height": 178
        },
        "id": "M4k1gg_NoXP0",
        "outputId": "0167f285-9e39-45a6-c0c5-41efae624950"
      },
      "execution_count": 35,
      "outputs": [
        {
          "output_type": "execute_result",
          "data": {
            "text/plain": [
              "topic\n",
              "Cats    17.79\n",
              "Dogs    26.59\n",
              "Name: price, dtype: float64"
            ],
            "text/html": [
              "<div>\n",
              "<style scoped>\n",
              "    .dataframe tbody tr th:only-of-type {\n",
              "        vertical-align: middle;\n",
              "    }\n",
              "\n",
              "    .dataframe tbody tr th {\n",
              "        vertical-align: top;\n",
              "    }\n",
              "\n",
              "    .dataframe thead th {\n",
              "        text-align: right;\n",
              "    }\n",
              "</style>\n",
              "<table border=\"1\" class=\"dataframe\">\n",
              "  <thead>\n",
              "    <tr style=\"text-align: right;\">\n",
              "      <th></th>\n",
              "      <th>price</th>\n",
              "    </tr>\n",
              "    <tr>\n",
              "      <th>topic</th>\n",
              "      <th></th>\n",
              "    </tr>\n",
              "  </thead>\n",
              "  <tbody>\n",
              "    <tr>\n",
              "      <th>Cats</th>\n",
              "      <td>17.79</td>\n",
              "    </tr>\n",
              "    <tr>\n",
              "      <th>Dogs</th>\n",
              "      <td>26.59</td>\n",
              "    </tr>\n",
              "  </tbody>\n",
              "</table>\n",
              "</div><br><label><b>dtype:</b> float64</label>"
            ]
          },
          "metadata": {},
          "execution_count": 35
        }
      ]
    },
    {
      "cell_type": "code",
      "metadata": {
        "colab": {
          "base_uri": "https://localhost:8080/",
          "height": 277
        },
        "outputId": "6d38be99-2ed3-4d2b-944c-11d7a7ea72e3",
        "id": "oC5khH-Cqm2-"
      },
      "source": [
        "df['pages'] = pd.to_numeric(df['pages'])\n",
        "display(df.info())"
      ],
      "execution_count": 36,
      "outputs": [
        {
          "output_type": "stream",
          "name": "stdout",
          "text": [
            "<class 'pandas.core.frame.DataFrame'>\n",
            "RangeIndex: 15 entries, 0 to 14\n",
            "Data columns (total 7 columns):\n",
            " #   Column    Non-Null Count  Dtype  \n",
            "---  ------    --------------  -----  \n",
            " 0   ISBN      15 non-null     object \n",
            " 1   title     15 non-null     object \n",
            " 2   author    15 non-null     object \n",
            " 3   language  15 non-null     object \n",
            " 4   pages     15 non-null     int64  \n",
            " 5   topic     15 non-null     object \n",
            " 6   price     15 non-null     float64\n",
            "dtypes: float64(1), int64(1), object(5)\n",
            "memory usage: 972.0+ bytes\n"
          ]
        },
        {
          "output_type": "display_data",
          "data": {
            "text/plain": [
              "None"
            ]
          },
          "metadata": {}
        }
      ]
    },
    {
      "cell_type": "code",
      "source": [
        "df.groupby('topic')['pages'].mean()"
      ],
      "metadata": {
        "colab": {
          "base_uri": "https://localhost:8080/",
          "height": 178
        },
        "id": "adM-7Ue9qdde",
        "outputId": "85a95a05-ea12-4e1e-9a8a-9edc8c3d6389"
      },
      "execution_count": 39,
      "outputs": [
        {
          "output_type": "execute_result",
          "data": {
            "text/plain": [
              "topic\n",
              "Cats    238.4\n",
              "Dogs    256.0\n",
              "Name: pages, dtype: float64"
            ],
            "text/html": [
              "<div>\n",
              "<style scoped>\n",
              "    .dataframe tbody tr th:only-of-type {\n",
              "        vertical-align: middle;\n",
              "    }\n",
              "\n",
              "    .dataframe tbody tr th {\n",
              "        vertical-align: top;\n",
              "    }\n",
              "\n",
              "    .dataframe thead th {\n",
              "        text-align: right;\n",
              "    }\n",
              "</style>\n",
              "<table border=\"1\" class=\"dataframe\">\n",
              "  <thead>\n",
              "    <tr style=\"text-align: right;\">\n",
              "      <th></th>\n",
              "      <th>pages</th>\n",
              "    </tr>\n",
              "    <tr>\n",
              "      <th>topic</th>\n",
              "      <th></th>\n",
              "    </tr>\n",
              "  </thead>\n",
              "  <tbody>\n",
              "    <tr>\n",
              "      <th>Cats</th>\n",
              "      <td>238.4</td>\n",
              "    </tr>\n",
              "    <tr>\n",
              "      <th>Dogs</th>\n",
              "      <td>256.0</td>\n",
              "    </tr>\n",
              "  </tbody>\n",
              "</table>\n",
              "</div><br><label><b>dtype:</b> float64</label>"
            ]
          },
          "metadata": {},
          "execution_count": 39
        }
      ]
    },
    {
      "cell_type": "code",
      "source": [],
      "metadata": {
        "id": "flTcqWq4ra_k"
      },
      "execution_count": null,
      "outputs": []
    },
    {
      "cell_type": "code",
      "source": [
        "response2 = requests.get('https://btech-data-analytics.github.io/bridgerland-technical-college/bookstore.html').text\n",
        "soup2 = BeautifulSoup(response2, 'html.parser')"
      ],
      "metadata": {
        "id": "ECU2fi-trbWW"
      },
      "execution_count": null,
      "outputs": []
    },
    {
      "cell_type": "code",
      "source": [
        "soup2.find('body').find_all('div', class_='w3-container')"
      ],
      "metadata": {
        "colab": {
          "base_uri": "https://localhost:8080/"
        },
        "id": "knPj7EztVaED",
        "outputId": "f31ac1b6-f559-4796-a480-647ce40e9524"
      },
      "execution_count": 4,
      "outputs": [
        {
          "output_type": "execute_result",
          "data": {
            "text/plain": [
              "[<div class=\"w3-container\">\n",
              " <h1>Welcome to Bob's Bookstore</h1>\n",
              " <p>Discover a world of literature at Bob's Bookstore. We offer a wide range of books to suit every reader's taste.</p>\n",
              " </div>,\n",
              " <div class=\"w3-container\" style=\"max-width: 1200px;margin: auto;\">\n",
              " <h2>Featured Books</h2>\n",
              " <div class=\"w3-row-padding\">\n",
              " <div class=\"w3-col s12 m6 l4\">\n",
              " <div class=\"w3-card-4\">\n",
              " <img src=\"https://cdn2.thecatapi.com/images/4nn.jpg\" style=\"width:100%;height:12rem\"/>\n",
              " <div class=\"w3-container\">\n",
              " <h3>Whiskers of Wisdom: Tales from Feline Philosophers</h3>\n",
              " <p>Penelope Wainwright</p>\n",
              " </div>\n",
              " </div>\n",
              " </div>\n",
              " <div class=\"w3-col s12 m6 l4\">\n",
              " <div class=\"w3-card-4\">\n",
              " <img src=\"https://cdn2.thecatapi.com/images/59d.jpg\" style=\"width:100%;height:12rem\"/>\n",
              " <div class=\"w3-container\">\n",
              " <h3>Paws and Prejudice: A Kitty Love Story</h3>\n",
              " <p>Jasper Sterling</p>\n",
              " </div>\n",
              " </div>\n",
              " </div>\n",
              " <div class=\"w3-col s12 m6 l4\">\n",
              " <div class=\"w3-card-4\">\n",
              " <img src=\"https://cdn2.thecatapi.com/images/ccf.jpg\" style=\"width:100%;height:12rem\"/>\n",
              " <div class=\"w3-container\">\n",
              " <h3>The Cat Detective Chronicles: Claws of Mystery</h3>\n",
              " <p>Seraphina Montague</p>\n",
              " </div>\n",
              " </div>\n",
              " </div>\n",
              " </div>\n",
              " <div class=\"w3-row-padding\" style=\"margin-top: 3rem;\">\n",
              " <div class=\"w3-col s12 m6 l4\">\n",
              " <div class=\"w3-card-4\">\n",
              " <img src=\"https://cdn2.thecatapi.com/images/a3o.jpg\" style=\"width:100%;height:12rem\"/>\n",
              " <div class=\"w3-container\">\n",
              " <h3>Meowtopia: A Journey to the Land of Talking Cats</h3>\n",
              " <p>Maximilian Thorne</p>\n",
              " </div>\n",
              " </div>\n",
              " </div>\n",
              " <div class=\"w3-col s12 m6 l4\">\n",
              " <div class=\"w3-card-4\">\n",
              " <img src=\"https://cdn2.thecatapi.com/images/8mf.jpg\" style=\"width:100%;height:12rem\"/>\n",
              " <div class=\"w3-container\">\n",
              " <h3>The Secret Lives of Cat Adventurer</h3>\n",
              " <p>Isadora Harrington</p>\n",
              " </div>\n",
              " </div>\n",
              " </div>\n",
              " <div class=\"w3-col s12 m6 l4\">\n",
              " <div class=\"w3-card-4\">\n",
              " <img src=\"https://cdn2.thecatapi.com/images/5hs.jpg\" style=\"width:100%;height:12rem\"/>\n",
              " <div class=\"w3-container\">\n",
              " <h3>Tales of Tail-Twitching Tabbies in Tanzania</h3>\n",
              " <p>Ignatius Blackwood</p>\n",
              " </div>\n",
              " </div>\n",
              " </div>\n",
              " </div>\n",
              " <div class=\"w3-row-padding\" style=\"margin-top: 3rem;\">\n",
              " <div class=\"w3-col s12 m6 l4\">\n",
              " <div class=\"w3-card-4\">\n",
              " <img src=\"https://cdn2.thecatapi.com/images/41Fe8q9vU.jpg\" style=\"width:100%;height:12rem\"/>\n",
              " <div class=\"w3-container\">\n",
              " <h3>Feline Fantasy: Adventures in the Whisker-Wild</h3>\n",
              " <p>Celeste Nightshade</p>\n",
              " </div>\n",
              " </div>\n",
              " </div>\n",
              " <div class=\"w3-col s12 m6 l4\">\n",
              " <div class=\"w3-card-4\">\n",
              " <img src=\"https://cdn2.thecatapi.com/images/bbi.jpg\" style=\"width:100%;height:12rem\"/>\n",
              " <div class=\"w3-container\">\n",
              " <h3>Catnap Chronicles: Dreams of the Purring Realm</h3>\n",
              " <p>Seraphina Montague</p>\n",
              " </div>\n",
              " </div>\n",
              " </div>\n",
              " <div class=\"w3-col s12 m6 l4\">\n",
              " <div class=\"w3-card-4\">\n",
              " <img src=\"https://cdn2.thecatapi.com/images/cqk.jpg\" style=\"width:100%;height:12rem\"/>\n",
              " <div class=\"w3-container\">\n",
              " <h3>The Whisker Whisperer's Guide to Cat Communication</h3>\n",
              " <p>Atticus Hawthorne</p>\n",
              " </div>\n",
              " </div>\n",
              " </div>\n",
              " </div>\n",
              " </div>,\n",
              " <div class=\"w3-container\">\n",
              " <h3>Whiskers of Wisdom: Tales from Feline Philosophers</h3>\n",
              " <p>Penelope Wainwright</p>\n",
              " </div>,\n",
              " <div class=\"w3-container\">\n",
              " <h3>Paws and Prejudice: A Kitty Love Story</h3>\n",
              " <p>Jasper Sterling</p>\n",
              " </div>,\n",
              " <div class=\"w3-container\">\n",
              " <h3>The Cat Detective Chronicles: Claws of Mystery</h3>\n",
              " <p>Seraphina Montague</p>\n",
              " </div>,\n",
              " <div class=\"w3-container\">\n",
              " <h3>Meowtopia: A Journey to the Land of Talking Cats</h3>\n",
              " <p>Maximilian Thorne</p>\n",
              " </div>,\n",
              " <div class=\"w3-container\">\n",
              " <h3>The Secret Lives of Cat Adventurer</h3>\n",
              " <p>Isadora Harrington</p>\n",
              " </div>,\n",
              " <div class=\"w3-container\">\n",
              " <h3>Tales of Tail-Twitching Tabbies in Tanzania</h3>\n",
              " <p>Ignatius Blackwood</p>\n",
              " </div>,\n",
              " <div class=\"w3-container\">\n",
              " <h3>Feline Fantasy: Adventures in the Whisker-Wild</h3>\n",
              " <p>Celeste Nightshade</p>\n",
              " </div>,\n",
              " <div class=\"w3-container\">\n",
              " <h3>Catnap Chronicles: Dreams of the Purring Realm</h3>\n",
              " <p>Seraphina Montague</p>\n",
              " </div>,\n",
              " <div class=\"w3-container\">\n",
              " <h3>The Whisker Whisperer's Guide to Cat Communication</h3>\n",
              " <p>Atticus Hawthorne</p>\n",
              " </div>]"
            ]
          },
          "metadata": {},
          "execution_count": 4
        }
      ]
    },
    {
      "cell_type": "code",
      "source": [
        "title = []\n",
        "author = []\n",
        "for book in soup2.find('body').find_all('div', class_='w3-container'):\n",
        "    title_tag = book.find('h3')\n",
        "    author_tag = book.find('p')\n",
        "    title.append(title_tag.get_text(strip=True) if title_tag else None)\n",
        "    author.append(author_tag.get_text(strip=True) if author_tag else None)\n",
        "\n",
        "df = pd.DataFrame({\n",
        "    'title':title,\n",
        "    'author':author\n",
        "})\n",
        "df['title'] = df['title'].str.replace('[', '', regex=False).str.replace(']', '', regex=False).str.strip()\n",
        "df['author'] = df['author'].str.replace('[', '', regex=False).str.replace(']', '', regex=False).str.strip()"
      ],
      "metadata": {
        "id": "aMF3JsXCStz3"
      },
      "execution_count": 14,
      "outputs": []
    },
    {
      "cell_type": "code",
      "source": [
        "df.info()"
      ],
      "metadata": {
        "colab": {
          "base_uri": "https://localhost:8080/"
        },
        "id": "wiYO63fghuwI",
        "outputId": "1a33a6e4-beef-4545-bd59-85bdd037d36d"
      },
      "execution_count": 17,
      "outputs": [
        {
          "output_type": "stream",
          "name": "stdout",
          "text": [
            "<class 'pandas.core.frame.DataFrame'>\n",
            "RangeIndex: 11 entries, 0 to 10\n",
            "Data columns (total 2 columns):\n",
            " #   Column  Non-Null Count  Dtype \n",
            "---  ------  --------------  ----- \n",
            " 0   title   10 non-null     object\n",
            " 1   author  11 non-null     object\n",
            "dtypes: object(2)\n",
            "memory usage: 308.0+ bytes\n"
          ]
        }
      ]
    }
  ]
}